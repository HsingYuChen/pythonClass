{
  "nbformat": 4,
  "nbformat_minor": 0,
  "metadata": {
    "colab": {
      "name": "RNN_imdb.ipynb",
      "version": "0.3.2",
      "provenance": []
    },
    "kernelspec": {
      "name": "python3",
      "display_name": "Python 3"
    }
  },
  "cells": [
    {
      "cell_type": "markdown",
      "metadata": {
        "id": "DXxakWn16v-i",
        "colab_type": "text"
      },
      "source": [
        "RNN (IMDB 電影影評)"
      ]
    },
    {
      "cell_type": "code",
      "metadata": {
        "id": "g33hq3iO60qs",
        "colab_type": "code",
        "colab": {
          "base_uri": "https://localhost:8080/",
          "height": 51
        },
        "outputId": "c0fb8819-a37f-4ea6-cec9-c7432cbd4fe5"
      },
      "source": [
        "!pip install numpy==1.16.1\n",
        "import numpy as np\n",
        "print(np.__version__)"
      ],
      "execution_count": 2,
      "outputs": [
        {
          "output_type": "stream",
          "text": [
            "Requirement already satisfied: numpy==1.16.1 in /usr/local/lib/python3.6/dist-packages (1.16.1)\n",
            "1.16.1\n"
          ],
          "name": "stdout"
        }
      ]
    },
    {
      "cell_type": "code",
      "metadata": {
        "id": "xn_20weo-nwB",
        "colab_type": "code",
        "colab": {
          "base_uri": "https://localhost:8080/",
          "height": 51
        },
        "outputId": "02e8c7ce-2347-477c-a214-be5d2605e3ce"
      },
      "source": [
        "import matplotlib.pyplot as plt\n",
        "%env KERAS_BACKEND = tensorflow\n",
        "from keras.models import Sequential\n",
        "from keras.layers import Dense, Embedding, LSTM, Dropout\n",
        "from keras.preprocessing import sequence"
      ],
      "execution_count": 3,
      "outputs": [
        {
          "output_type": "stream",
          "text": [
            "env: KERAS_BACKEND=tensorflow\n"
          ],
          "name": "stdout"
        },
        {
          "output_type": "stream",
          "text": [
            "Using TensorFlow backend.\n"
          ],
          "name": "stderr"
        }
      ]
    },
    {
      "cell_type": "markdown",
      "metadata": {
        "id": "-ggvmQJF7Mwh",
        "colab_type": "text"
      },
      "source": [
        "讀入資料並整理"
      ]
    },
    {
      "cell_type": "code",
      "metadata": {
        "id": "iOrDAbZ47FXh",
        "colab_type": "code",
        "colab": {}
      },
      "source": [
        "from keras.datasets import imdb\n",
        "(x_train, y_train), (x_test, y_test) = imdb.load_data(num_words=10000)"
      ],
      "execution_count": 0,
      "outputs": []
    },
    {
      "cell_type": "code",
      "metadata": {
        "id": "fXJY85W58YK6",
        "colab_type": "code",
        "colab": {}
      },
      "source": [
        "x_train = sequence.pad_sequences(x_train, maxlen=200)\n",
        "x_test = sequence.pad_sequences(x_test, maxlen=200)"
      ],
      "execution_count": 0,
      "outputs": []
    },
    {
      "cell_type": "markdown",
      "metadata": {
        "id": "be_s3y987F5R",
        "colab_type": "text"
      },
      "source": [
        "RNN_MODEL\n",
        "5維，4個神經元，最大長度200，dropout=0.4"
      ]
    },
    {
      "cell_type": "code",
      "metadata": {
        "id": "EinPVhBD7VPY",
        "colab_type": "code",
        "colab": {
          "base_uri": "https://localhost:8080/",
          "height": 343
        },
        "outputId": "758d5875-43e3-4e1e-b4b2-e4da80cc01f7"
      },
      "source": [
        "model_1 = Sequential()\n",
        "model_1.add(Embedding(10000, 5)) #5維\n",
        "model_1.add(Dropout(0.4))\n",
        "model_1.add(LSTM(4))             #4個神經元\n",
        "model_1.add(Dense(1, activation='sigmoid'))\n",
        "model_1.compile(loss='binary_crossentropy', optimizer='adam', metrics=['accuracy'])\n",
        "model_1.summary()"
      ],
      "execution_count": 12,
      "outputs": [
        {
          "output_type": "stream",
          "text": [
            "WARNING:tensorflow:From /usr/local/lib/python3.6/dist-packages/keras/backend/tensorflow_backend.py:3445: calling dropout (from tensorflow.python.ops.nn_ops) with keep_prob is deprecated and will be removed in a future version.\n",
            "Instructions for updating:\n",
            "Please use `rate` instead of `keep_prob`. Rate should be set to `rate = 1 - keep_prob`.\n",
            "_________________________________________________________________\n",
            "Layer (type)                 Output Shape              Param #   \n",
            "=================================================================\n",
            "embedding_2 (Embedding)      (None, None, 5)           50000     \n",
            "_________________________________________________________________\n",
            "dropout_1 (Dropout)          (None, None, 5)           0         \n",
            "_________________________________________________________________\n",
            "lstm_2 (LSTM)                (None, 4)                 160       \n",
            "_________________________________________________________________\n",
            "dense_2 (Dense)              (None, 1)                 5         \n",
            "=================================================================\n",
            "Total params: 50,165\n",
            "Trainable params: 50,165\n",
            "Non-trainable params: 0\n",
            "_________________________________________________________________\n"
          ],
          "name": "stdout"
        }
      ]
    },
    {
      "cell_type": "code",
      "metadata": {
        "id": "ieLqKntz7WiR",
        "colab_type": "code",
        "colab": {
          "base_uri": "https://localhost:8080/",
          "height": 153
        },
        "outputId": "43c9fde9-f956-426b-e894-f0fe1f746ef6"
      },
      "source": [
        "model_1.fit(x_train, y_train, batch_size=64, epochs=3, validation_data = (x_test, y_test))"
      ],
      "execution_count": 13,
      "outputs": [
        {
          "output_type": "stream",
          "text": [
            "Train on 25000 samples, validate on 25000 samples\n",
            "Epoch 1/3\n",
            "25000/25000 [==============================] - 43s 2ms/step - loss: 0.6205 - acc: 0.6400 - val_loss: 0.4529 - val_acc: 0.8065\n",
            "Epoch 2/3\n",
            "25000/25000 [==============================] - 41s 2ms/step - loss: 0.3992 - acc: 0.8336 - val_loss: 0.3664 - val_acc: 0.8476\n",
            "Epoch 3/3\n",
            "25000/25000 [==============================] - 41s 2ms/step - loss: 0.3270 - acc: 0.8706 - val_loss: 0.3501 - val_acc: 0.8548\n"
          ],
          "name": "stdout"
        },
        {
          "output_type": "execute_result",
          "data": {
            "text/plain": [
              "<keras.callbacks.History at 0x7fed4ffa4978>"
            ]
          },
          "metadata": {
            "tags": []
          },
          "execution_count": 13
        }
      ]
    },
    {
      "cell_type": "code",
      "metadata": {
        "id": "BRxvg0mI7Wkx",
        "colab_type": "code",
        "colab": {
          "base_uri": "https://localhost:8080/",
          "height": 68
        },
        "outputId": "f99c1491-70ae-4248-f814-2c7e7bb55893"
      },
      "source": [
        "score = model_1.evaluate(x_test, y_test)\n",
        "print(f'loss = {score[0]}')\n",
        "print(f'accuracy = {score[1]}')\n"
      ],
      "execution_count": 14,
      "outputs": [
        {
          "output_type": "stream",
          "text": [
            "25000/25000 [==============================] - 10s 401us/step\n",
            "loss = 0.35012536762714386\n",
            "accuracy = 0.8548\n"
          ],
          "name": "stdout"
        }
      ]
    },
    {
      "cell_type": "markdown",
      "metadata": {
        "id": "55PtHDriCRlR",
        "colab_type": "text"
      },
      "source": [
        "model_2\n",
        "5維，8個神經元，最大長度200，dropout=0.4"
      ]
    },
    {
      "cell_type": "code",
      "metadata": {
        "id": "V1PlHY_XCWII",
        "colab_type": "code",
        "colab": {
          "base_uri": "https://localhost:8080/",
          "height": 272
        },
        "outputId": "734b107c-452d-45b0-be3e-766a93b6d22c"
      },
      "source": [
        "model_1 = Sequential()\n",
        "model_1.add(Embedding(10000, 5)) #5維\n",
        "model_1.add(Dropout(0.4))\n",
        "model_1.add(LSTM(8))             #8個神經元\n",
        "model_1.add(Dense(1, activation='sigmoid'))\n",
        "model_1.compile(loss='binary_crossentropy', optimizer='adam', metrics=['accuracy'])\n",
        "model_1.summary()"
      ],
      "execution_count": 15,
      "outputs": [
        {
          "output_type": "stream",
          "text": [
            "_________________________________________________________________\n",
            "Layer (type)                 Output Shape              Param #   \n",
            "=================================================================\n",
            "embedding_3 (Embedding)      (None, None, 5)           50000     \n",
            "_________________________________________________________________\n",
            "dropout_2 (Dropout)          (None, None, 5)           0         \n",
            "_________________________________________________________________\n",
            "lstm_3 (LSTM)                (None, 8)                 448       \n",
            "_________________________________________________________________\n",
            "dense_3 (Dense)              (None, 1)                 9         \n",
            "=================================================================\n",
            "Total params: 50,457\n",
            "Trainable params: 50,457\n",
            "Non-trainable params: 0\n",
            "_________________________________________________________________\n"
          ],
          "name": "stdout"
        }
      ]
    },
    {
      "cell_type": "code",
      "metadata": {
        "id": "yqGbTy9CCqMw",
        "colab_type": "code",
        "colab": {
          "base_uri": "https://localhost:8080/",
          "height": 153
        },
        "outputId": "481772f6-3a74-41d8-8fb7-8c1e818ae7ad"
      },
      "source": [
        "model_1.fit(x_train, y_train, batch_size=64, epochs=3, validation_data = (x_test, y_test))"
      ],
      "execution_count": 16,
      "outputs": [
        {
          "output_type": "stream",
          "text": [
            "Train on 25000 samples, validate on 25000 samples\n",
            "Epoch 1/3\n",
            "25000/25000 [==============================] - 44s 2ms/step - loss: 0.5461 - acc: 0.7076 - val_loss: 0.3613 - val_acc: 0.8540\n",
            "Epoch 2/3\n",
            "25000/25000 [==============================] - 43s 2ms/step - loss: 0.3090 - acc: 0.8747 - val_loss: 0.3234 - val_acc: 0.8672\n",
            "Epoch 3/3\n",
            "25000/25000 [==============================] - 43s 2ms/step - loss: 0.2529 - acc: 0.9024 - val_loss: 0.3008 - val_acc: 0.8733\n"
          ],
          "name": "stdout"
        },
        {
          "output_type": "execute_result",
          "data": {
            "text/plain": [
              "<keras.callbacks.History at 0x7fed4b41e828>"
            ]
          },
          "metadata": {
            "tags": []
          },
          "execution_count": 16
        }
      ]
    },
    {
      "cell_type": "code",
      "metadata": {
        "id": "U0D_OhFGCrMw",
        "colab_type": "code",
        "colab": {
          "base_uri": "https://localhost:8080/",
          "height": 68
        },
        "outputId": "c5a8e3b9-9894-4de4-ffd4-21c874c52f8e"
      },
      "source": [
        "score = model_1.evaluate(x_test, y_test)\n",
        "print(f'loss = {score[0]}')\n",
        "print(f'accuracy = {score[1]}')"
      ],
      "execution_count": 17,
      "outputs": [
        {
          "output_type": "stream",
          "text": [
            "25000/25000 [==============================] - 10s 419us/step\n",
            "loss = 0.30080584299087526\n",
            "accuracy = 0.87332\n"
          ],
          "name": "stdout"
        }
      ]
    },
    {
      "cell_type": "code",
      "metadata": {
        "id": "Q8bpuSAaCu3H",
        "colab_type": "code",
        "colab": {}
      },
      "source": [
        ""
      ],
      "execution_count": 0,
      "outputs": []
    }
  ]
}
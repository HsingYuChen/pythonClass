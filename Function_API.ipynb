{
  "nbformat": 4,
  "nbformat_minor": 0,
  "metadata": {
    "colab": {
      "name": "Function API.ipynb",
      "version": "0.3.2",
      "provenance": []
    },
    "kernelspec": {
      "name": "python3",
      "display_name": "Python 3"
    },
    "accelerator": "TPU"
  },
  "cells": [
    {
      "metadata": {
        "id": "i2v5_fn3WhUa",
        "colab_type": "code",
        "colab": {}
      },
      "cell_type": "code",
      "source": [
        "%matplotlib inline\n",
        "import numpy as np\n",
        "import matplotlib.pyplot as plt\n"
      ],
      "execution_count": 0,
      "outputs": []
    },
    {
      "metadata": {
        "id": "xbgQokmAYW_W",
        "colab_type": "code",
        "colab": {
          "base_uri": "https://localhost:8080/",
          "height": 68
        },
        "outputId": "035eef67-55ce-41ec-f833-5b4f8c82a9bf"
      },
      "cell_type": "code",
      "source": [
        "from keras.datasets import mnist\n",
        "(x_train, y_train), (x_test, y_test) = mnist.load_data()\n"
      ],
      "execution_count": 2,
      "outputs": [
        {
          "output_type": "stream",
          "text": [
            "Using TensorFlow backend.\n"
          ],
          "name": "stderr"
        },
        {
          "output_type": "stream",
          "text": [
            "Downloading data from https://s3.amazonaws.com/img-datasets/mnist.npz\n",
            "11493376/11490434 [==============================] - 0s 0us/step\n"
          ],
          "name": "stdout"
        }
      ]
    },
    {
      "metadata": {
        "id": "I7abezitYYlz",
        "colab_type": "code",
        "colab": {}
      },
      "cell_type": "code",
      "source": [
        "x_train = x_train.reshape(60000, 784)\n",
        "x_test = x_test.reshape(10000, 784)\n",
        "from keras.utils import np_utils\n",
        "#把正確答案轉成矩陣型式\n",
        "y_train = np_utils.to_categorical(y_train, 10)\n",
        "y_test = np_utils.to_categorical(y_test, 10)"
      ],
      "execution_count": 0,
      "outputs": []
    },
    {
      "metadata": {
        "id": "H60xNwIGYlZD",
        "colab_type": "code",
        "colab": {}
      },
      "cell_type": "code",
      "source": [
        "from keras.models import Model \n",
        "from keras.layers import Dense, Activation,Input #Dense是Fully connected的。Activation是設定激活函數用的。\n",
        "from keras import optimizers "
      ],
      "execution_count": 0,
      "outputs": []
    },
    {
      "metadata": {
        "id": "10lj6fdQYxhz",
        "colab_type": "code",
        "colab": {}
      },
      "cell_type": "code",
      "source": [
        "x=Input(shape=(784,))\n",
        "f_1=Dense(300,activation='sigmoid')\n",
        "f_2=Dense(300,activation='sigmoid')\n",
        "f_3=Dense(300,activation='relu')\n",
        "f_4=Dense(10,activation='softmax')\n",
        "\n",
        "h_1=f_1(x)\n",
        "h_2=f_2(h_1)\n",
        "h_3=f_3(h_1)"
      ],
      "execution_count": 0,
      "outputs": []
    },
    {
      "metadata": {
        "id": "3fSxfMvcghg9",
        "colab_type": "code",
        "colab": {}
      },
      "cell_type": "code",
      "source": [
        "from keras.layers import concatenate,add\n",
        "u=concatenate([h_2,h_3])\n",
        "y=f_4(u)\n",
        "model=Model(x,y)\n",
        "Adm=optimizers.Adam(lr=0.001, beta_1=0.9, beta_2=0.999,epsilon=None, decay=0.0,amsgrad=False)\n"
      ],
      "execution_count": 0,
      "outputs": []
    },
    {
      "metadata": {
        "id": "jZryvm1Mgh0U",
        "colab_type": "code",
        "colab": {
          "base_uri": "https://localhost:8080/",
          "height": 357
        },
        "outputId": "4dfe40cd-3f06-4b9f-e654-2d13dd00633f"
      },
      "cell_type": "code",
      "source": [
        "model.summary()#檢查模型是否正確"
      ],
      "execution_count": 31,
      "outputs": [
        {
          "output_type": "stream",
          "text": [
            "__________________________________________________________________________________________________\n",
            "Layer (type)                    Output Shape         Param #     Connected to                     \n",
            "==================================================================================================\n",
            "input_6 (InputLayer)            (None, 784)          0                                            \n",
            "__________________________________________________________________________________________________\n",
            "dense_21 (Dense)                (None, 300)          235500      input_6[0][0]                    \n",
            "__________________________________________________________________________________________________\n",
            "dense_22 (Dense)                (None, 300)          90300       dense_21[0][0]                   \n",
            "__________________________________________________________________________________________________\n",
            "dense_23 (Dense)                (None, 300)          90300       dense_21[0][0]                   \n",
            "__________________________________________________________________________________________________\n",
            "concatenate_7 (Concatenate)     (None, 600)          0           dense_22[0][0]                   \n",
            "                                                                 dense_23[0][0]                   \n",
            "__________________________________________________________________________________________________\n",
            "dense_24 (Dense)                (None, 10)           6010        concatenate_7[0][0]              \n",
            "==================================================================================================\n",
            "Total params: 422,110\n",
            "Trainable params: 422,110\n",
            "Non-trainable params: 0\n",
            "__________________________________________________________________________________________________\n"
          ],
          "name": "stdout"
        }
      ]
    },
    {
      "metadata": {
        "id": "XGmL_tOUYz78",
        "colab_type": "code",
        "outputId": "080ffc3a-5600-43e5-d749-9ce8ba2879a9",
        "colab": {
          "base_uri": "https://localhost:8080/",
          "height": 1394
        }
      },
      "cell_type": "code",
      "source": [
        "model.compile(loss='categorical_crossentropy',optimizer=Adm,metrics=['accuracy'])\n",
        "train_model=model.fit(x_train, y_train, batch_size=100, epochs=40,verbose=1,validation_data=(x_test,y_test))"
      ],
      "execution_count": 35,
      "outputs": [
        {
          "output_type": "stream",
          "text": [
            "Train on 60000 samples, validate on 10000 samples\n",
            "Epoch 1/40\n",
            "60000/60000 [==============================] - 9s 146us/step - loss: 0.1298 - acc: 0.9595 - val_loss: 0.1206 - val_acc: 0.9628\n",
            "Epoch 2/40\n",
            "60000/60000 [==============================] - 8s 139us/step - loss: 0.0986 - acc: 0.9678 - val_loss: 0.1176 - val_acc: 0.9648\n",
            "Epoch 3/40\n",
            "60000/60000 [==============================] - 8s 135us/step - loss: 0.0872 - acc: 0.9712 - val_loss: 0.1071 - val_acc: 0.9677\n",
            "Epoch 4/40\n",
            "60000/60000 [==============================] - 8s 134us/step - loss: 0.0783 - acc: 0.9737 - val_loss: 0.1068 - val_acc: 0.9663\n",
            "Epoch 5/40\n",
            "60000/60000 [==============================] - 8s 130us/step - loss: 0.0751 - acc: 0.9756 - val_loss: 0.1044 - val_acc: 0.9664\n",
            "Epoch 6/40\n",
            "60000/60000 [==============================] - 8s 137us/step - loss: 0.0763 - acc: 0.9749 - val_loss: 0.0998 - val_acc: 0.9687\n",
            "Epoch 7/40\n",
            "60000/60000 [==============================] - 8s 138us/step - loss: 0.0721 - acc: 0.9763 - val_loss: 0.1074 - val_acc: 0.9667\n",
            "Epoch 8/40\n",
            "60000/60000 [==============================] - 8s 131us/step - loss: 0.0678 - acc: 0.9774 - val_loss: 0.1050 - val_acc: 0.9678\n",
            "Epoch 9/40\n",
            "60000/60000 [==============================] - 8s 132us/step - loss: 0.0682 - acc: 0.9765 - val_loss: 0.1060 - val_acc: 0.9674\n",
            "Epoch 10/40\n",
            "60000/60000 [==============================] - 8s 129us/step - loss: 0.0695 - acc: 0.9770 - val_loss: 0.1023 - val_acc: 0.9675\n",
            "Epoch 11/40\n",
            "60000/60000 [==============================] - 8s 130us/step - loss: 0.0655 - acc: 0.9779 - val_loss: 0.1029 - val_acc: 0.9666\n",
            "Epoch 12/40\n",
            "60000/60000 [==============================] - 8s 138us/step - loss: 0.0671 - acc: 0.9776 - val_loss: 0.0983 - val_acc: 0.9675\n",
            "Epoch 13/40\n",
            "60000/60000 [==============================] - 8s 139us/step - loss: 0.0650 - acc: 0.9786 - val_loss: 0.0928 - val_acc: 0.9726\n",
            "Epoch 14/40\n",
            "60000/60000 [==============================] - 8s 139us/step - loss: 0.0667 - acc: 0.9778 - val_loss: 0.1092 - val_acc: 0.9652\n",
            "Epoch 15/40\n",
            "60000/60000 [==============================] - 8s 138us/step - loss: 0.0703 - acc: 0.9761 - val_loss: 0.1182 - val_acc: 0.9636\n",
            "Epoch 16/40\n",
            "60000/60000 [==============================] - 9s 144us/step - loss: 0.0734 - acc: 0.9754 - val_loss: 0.1090 - val_acc: 0.9644\n",
            "Epoch 17/40\n",
            "60000/60000 [==============================] - 8s 140us/step - loss: 0.0697 - acc: 0.9763 - val_loss: 0.1123 - val_acc: 0.9677\n",
            "Epoch 18/40\n",
            "60000/60000 [==============================] - 8s 134us/step - loss: 0.0679 - acc: 0.9767 - val_loss: 0.1099 - val_acc: 0.9650\n",
            "Epoch 19/40\n",
            "60000/60000 [==============================] - 8s 135us/step - loss: 0.0676 - acc: 0.9772 - val_loss: 0.1023 - val_acc: 0.9694\n",
            "Epoch 20/40\n",
            "60000/60000 [==============================] - 8s 128us/step - loss: 0.0651 - acc: 0.9778 - val_loss: 0.0999 - val_acc: 0.9703\n",
            "Epoch 21/40\n",
            "60000/60000 [==============================] - 8s 133us/step - loss: 0.0615 - acc: 0.9791 - val_loss: 0.1003 - val_acc: 0.9688\n",
            "Epoch 22/40\n",
            "60000/60000 [==============================] - 9s 143us/step - loss: 0.0614 - acc: 0.9793 - val_loss: 0.0880 - val_acc: 0.9706\n",
            "Epoch 23/40\n",
            "60000/60000 [==============================] - 8s 135us/step - loss: 0.0600 - acc: 0.9796 - val_loss: 0.1017 - val_acc: 0.9691\n",
            "Epoch 24/40\n",
            "60000/60000 [==============================] - 8s 137us/step - loss: 0.0554 - acc: 0.9814 - val_loss: 0.0877 - val_acc: 0.9701\n",
            "Epoch 25/40\n",
            "60000/60000 [==============================] - 8s 136us/step - loss: 0.0548 - acc: 0.9815 - val_loss: 0.1008 - val_acc: 0.9682\n",
            "Epoch 26/40\n",
            "60000/60000 [==============================] - 8s 138us/step - loss: 0.0567 - acc: 0.9809 - val_loss: 0.1102 - val_acc: 0.9667\n",
            "Epoch 27/40\n",
            "60000/60000 [==============================] - 8s 139us/step - loss: 0.0563 - acc: 0.9806 - val_loss: 0.0942 - val_acc: 0.9709\n",
            "Epoch 28/40\n",
            "60000/60000 [==============================] - 8s 134us/step - loss: 0.0552 - acc: 0.9813 - val_loss: 0.0909 - val_acc: 0.9719\n",
            "Epoch 29/40\n",
            "60000/60000 [==============================] - 8s 131us/step - loss: 0.0549 - acc: 0.9821 - val_loss: 0.0842 - val_acc: 0.9743\n",
            "Epoch 30/40\n",
            "60000/60000 [==============================] - 8s 132us/step - loss: 0.0538 - acc: 0.9816 - val_loss: 0.0934 - val_acc: 0.9707\n",
            "Epoch 31/40\n",
            "60000/60000 [==============================] - 8s 130us/step - loss: 0.0512 - acc: 0.9825 - val_loss: 0.1006 - val_acc: 0.9713\n",
            "Epoch 32/40\n",
            "60000/60000 [==============================] - 8s 130us/step - loss: 0.0532 - acc: 0.9817 - val_loss: 0.0885 - val_acc: 0.9717\n",
            "Epoch 33/40\n",
            "60000/60000 [==============================] - 8s 133us/step - loss: 0.0530 - acc: 0.9818 - val_loss: 0.0855 - val_acc: 0.9730\n",
            "Epoch 34/40\n",
            "60000/60000 [==============================] - 8s 131us/step - loss: 0.0511 - acc: 0.9828 - val_loss: 0.0856 - val_acc: 0.9735\n",
            "Epoch 35/40\n",
            "60000/60000 [==============================] - 8s 130us/step - loss: 0.0504 - acc: 0.9822 - val_loss: 0.0985 - val_acc: 0.9706\n",
            "Epoch 36/40\n",
            "60000/60000 [==============================] - 8s 140us/step - loss: 0.0520 - acc: 0.9824 - val_loss: 0.0978 - val_acc: 0.9708\n",
            "Epoch 37/40\n",
            "60000/60000 [==============================] - 8s 132us/step - loss: 0.0518 - acc: 0.9826 - val_loss: 0.0943 - val_acc: 0.9722\n",
            "Epoch 38/40\n",
            "60000/60000 [==============================] - 8s 137us/step - loss: 0.0516 - acc: 0.9824 - val_loss: 0.0992 - val_acc: 0.9713\n",
            "Epoch 39/40\n",
            "60000/60000 [==============================] - 8s 130us/step - loss: 0.0531 - acc: 0.9817 - val_loss: 0.1015 - val_acc: 0.9695\n",
            "Epoch 40/40\n",
            "60000/60000 [==============================] - 8s 129us/step - loss: 0.0497 - acc: 0.9830 - val_loss: 0.0887 - val_acc: 0.9725\n"
          ],
          "name": "stdout"
        }
      ]
    },
    {
      "metadata": {
        "id": "sakrllX0Y81k",
        "colab_type": "code",
        "outputId": "b5c1801f-cf67-4b52-8d51-49225a773010",
        "colab": {
          "base_uri": "https://localhost:8080/",
          "height": 68
        }
      },
      "cell_type": "code",
      "source": [
        "score = model.evaluate(x_test, y_test)\n",
        "print('loss:', score[0])\n",
        "print('正確率', score[1])"
      ],
      "execution_count": 33,
      "outputs": [
        {
          "output_type": "stream",
          "text": [
            "10000/10000 [==============================] - 1s 70us/step\n",
            "loss: 0.11386110289394856\n",
            "正確率 0.9663\n"
          ],
          "name": "stdout"
        }
      ]
    },
    {
      "metadata": {
        "id": "kiqV5J3bla-5",
        "colab_type": "code",
        "colab": {
          "base_uri": "https://localhost:8080/",
          "height": 327
        },
        "outputId": "a40101e5-d88c-4c7d-f94e-22b42cc31030"
      },
      "cell_type": "code",
      "source": [
        "plt.plot(train_model.history[\"acc\"])\n",
        "plt.xlabel('epoch',size=30)\n",
        "plt.ylabel('acc',size=30)\n",
        "plt.title('epoch-acc',size=30)\n",
        "plt.show()"
      ],
      "execution_count": 36,
      "outputs": [
        {
          "output_type": "display_data",
          "data": {
            "image/png": "[encoded data removed]",
            "text/plain": [
              "<Figure size 432x288 with 1 Axes>"
            ]
          },
          "metadata": {
            "tags": []
          }
        }
      ]
    },
    {
      "metadata": {
        "id": "CcsTCxGFpavj",
        "colab_type": "code",
        "colab": {}
      },
      "cell_type": "code",
      "source": [
        ""
      ],
      "execution_count": 0,
      "outputs": []
    }
  ]
}